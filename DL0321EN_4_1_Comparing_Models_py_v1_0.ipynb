{
  "nbformat": 4,
  "nbformat_minor": 0,
  "metadata": {
    "kernelspec": {
      "name": "python3",
      "display_name": "Python 3"
    },
    "colab": {
      "name": "DL0321EN-4-1-Comparing-Models-py-v1.0.ipynb",
      "provenance": [],
      "collapsed_sections": []
    },
    "accelerator": "GPU"
  },
  "cells": [
    {
      "cell_type": "markdown",
      "metadata": {
        "button": false,
        "deletable": true,
        "new_sheet": false,
        "run_control": {
          "read_only": false
        },
        "id": "yaCbhWkdrzY5"
      },
      "source": [
        "<a href=\"https://cognitiveclass.ai\"><img src = \"https://s3-api.us-geo.objectstorage.softlayer.net/cf-courses-data/CognitiveClass/Logos/organization_logo/organization_logo.png\" width = 400> </a>\n",
        "\n",
        "<h1 align=center><font size = 5>Peer Review Final Assignment</font></h1>"
      ]
    },
    {
      "cell_type": "markdown",
      "metadata": {
        "button": false,
        "deletable": true,
        "new_sheet": false,
        "run_control": {
          "read_only": false
        },
        "id": "B_jAYGWYrzY-"
      },
      "source": [
        "## Introduction\n"
      ]
    },
    {
      "cell_type": "markdown",
      "metadata": {
        "button": false,
        "deletable": true,
        "new_sheet": false,
        "run_control": {
          "read_only": false
        },
        "id": "mrjd0qe1rzY_"
      },
      "source": [
        "In this lab, you will build an image classifier using the VGG16 pre-trained model, and you will evaluate it and compare its performance to the model we built in the last module using the ResNet50 pre-trained model. Good luck!"
      ]
    },
    {
      "cell_type": "markdown",
      "metadata": {
        "button": false,
        "deletable": true,
        "new_sheet": false,
        "run_control": {
          "read_only": false
        },
        "id": "t6x1O6nnrzY_"
      },
      "source": [
        "## Table of Contents\n",
        "\n",
        "<div class=\"alert alert-block alert-info\" style=\"margin-top: 20px\">\n",
        "\n",
        "<font size = 3>    \n",
        "\n",
        "1. <a href=\"#item41\">Download Data \n",
        "2. <a href=\"#item42\">Part 1</a>\n",
        "3. <a href=\"#item43\">Part 2</a>  \n",
        "4. <a href=\"#item44\">Part 3</a>  \n",
        "\n",
        "</font>\n",
        "    \n",
        "</div>"
      ]
    },
    {
      "cell_type": "markdown",
      "metadata": {
        "button": false,
        "deletable": true,
        "new_sheet": false,
        "run_control": {
          "read_only": false
        },
        "id": "H-x8wVZZrzY_"
      },
      "source": [
        "   "
      ]
    },
    {
      "cell_type": "markdown",
      "metadata": {
        "id": "9vb8zSyjrzY_"
      },
      "source": [
        "<a id=\"item41\"></a>"
      ]
    },
    {
      "cell_type": "markdown",
      "metadata": {
        "id": "eNowj1brrzZA"
      },
      "source": [
        "## Download Data"
      ]
    },
    {
      "cell_type": "markdown",
      "metadata": {
        "id": "HTArwaTKrzZA"
      },
      "source": [
        "Use the <code>wget</code> command to download the data for this assignment from here: https://s3-api.us-geo.objectstorage.softlayer.net/cf-courses-data/CognitiveClass/DL0321EN/data/concrete_data_week4.zip"
      ]
    },
    {
      "cell_type": "markdown",
      "metadata": {
        "id": "R717AAvhrzZA"
      },
      "source": [
        "Use the following cells to download the data."
      ]
    },
    {
      "cell_type": "code",
      "metadata": {
        "id": "Arf7MOlqrzZA"
      },
      "source": [
        "#!wget https://s3-api.us-geo.objectstorage.softlayer.net/cf-courses-data/CognitiveClass/DL0321EN/data/concrete_data_week4.zip\r\n"
      ],
      "execution_count": 21,
      "outputs": []
    },
    {
      "cell_type": "code",
      "metadata": {
        "id": "-hf1fzRXrzZB"
      },
      "source": [
        "#!unzip concrete_data_week4.zip"
      ],
      "execution_count": 22,
      "outputs": []
    },
    {
      "cell_type": "markdown",
      "metadata": {
        "id": "H6Guh372rzZB"
      },
      "source": [
        "After you unzip the data, you fill find the data has already been divided into a train, validation, and test sets."
      ]
    },
    {
      "cell_type": "markdown",
      "metadata": {
        "id": "JEDZLxPUrzZB"
      },
      "source": [
        "  "
      ]
    },
    {
      "cell_type": "markdown",
      "metadata": {
        "button": false,
        "deletable": true,
        "new_sheet": false,
        "run_control": {
          "read_only": false
        },
        "id": "Sxv7S_CnrzZB"
      },
      "source": [
        "<a id=\"item42\"></a>"
      ]
    },
    {
      "cell_type": "markdown",
      "metadata": {
        "id": "P_FJDQXErzZC"
      },
      "source": [
        "## Part 1"
      ]
    },
    {
      "cell_type": "markdown",
      "metadata": {
        "id": "ZUHHWiirrzZC"
      },
      "source": [
        "In this part, you will design a classifier using the VGG16 pre-trained model. Just like the ResNet50 model, you can import the model <code>VGG16</code> from <code>keras.applications</code>."
      ]
    },
    {
      "cell_type": "markdown",
      "metadata": {
        "id": "3cIgWxLhrzZC"
      },
      "source": [
        "You will essentially build your classifier as follows:\n",
        "1. Import libraries, modules, and packages you will need. Make sure to import the *preprocess_input* function from <code>keras.applications.vgg16</code>.\n",
        "2. Use a batch size of 100 images for both training and validation.\n",
        "3. Construct an ImageDataGenerator for the training set and another one for the validation set. VGG16 was originally trained on 224 × 224 images, so make sure to address that when defining the ImageDataGenerator instances.\n",
        "4. Create a sequential model using Keras. Add VGG16 model to it and dense layer.\n",
        "5. Compile the mode using the adam optimizer and the categorical_crossentropy loss function.\n",
        "6. Fit the model on the augmented data using the ImageDataGenerators."
      ]
    },
    {
      "cell_type": "markdown",
      "metadata": {
        "id": "2K73fNyqrzZC"
      },
      "source": [
        "Use the following cells to create your classifier."
      ]
    },
    {
      "cell_type": "code",
      "metadata": {
        "id": "wqf5p5yZrzZC"
      },
      "source": [
        "import numpy as np\r\n",
        "import pandas as pd\r\n",
        "import matplotlib.pyplot as plt\r\n",
        "\r\n",
        "from keras.models import Sequential, load_model\r\n",
        "from keras.applications.vgg16 import VGG16\r\n",
        "from keras.applications import ResNet50\r\n",
        "from keras.applications.vgg16 import preprocess_input as vgg16_preprocess_input\r\n",
        "from keras.applications.resnet50 import preprocess_input as resnet50_preprocess_input\r\n",
        "from keras.preprocessing.image import ImageDataGenerator\r\n",
        "from keras.layers import Dense, AveragePooling2D, Flatten, Dropout"
      ],
      "execution_count": 36,
      "outputs": []
    },
    {
      "cell_type": "code",
      "metadata": {
        "colab": {
          "base_uri": "https://localhost:8080/"
        },
        "id": "VW4rfy68rzZC",
        "outputId": "4866d8f2-b4ae-437d-849b-1f24b24a6727"
      },
      "source": [
        "batch_size = 100\r\n",
        "num_classes = 2\r\n",
        "num_epochs = 2\r\n",
        "image_size = (224, 224)\r\n",
        "\r\n",
        "datagenerator = ImageDataGenerator(preprocessing_function = vgg16_preprocess_input)\r\n",
        "\r\n",
        "train_gen = datagenerator.flow_from_directory('concrete_data_week4/train', target_size = image_size, batch_size = batch_size)\r\n",
        "valid_gen = datagenerator.flow_from_directory('concrete_data_week4/valid', target_size = image_size, batch_size = batch_size)"
      ],
      "execution_count": 38,
      "outputs": [
        {
          "output_type": "stream",
          "text": [
            "Found 30001 images belonging to 2 classes.\n",
            "Found 9501 images belonging to 2 classes.\n"
          ],
          "name": "stdout"
        }
      ]
    },
    {
      "cell_type": "code",
      "metadata": {
        "id": "oAxZMHZsAZIb"
      },
      "source": [
        "steps_per_epoch_training = len(train_gen)\r\n",
        "steps_per_epoch_validation = len(valid_gen)\r\n"
      ],
      "execution_count": 25,
      "outputs": []
    },
    {
      "cell_type": "code",
      "metadata": {
        "scrolled": true,
        "colab": {
          "base_uri": "https://localhost:8080/"
        },
        "id": "sBN5rQxFrzZD",
        "outputId": "0b1c59f6-1177-4105-a717-6a15c199e1e1"
      },
      "source": [
        "model = Sequential()\r\n",
        "\r\n",
        "model.add(VGG16(weights = 'imagenet', include_top = False, pooling = 'avg'))\r\n",
        "\r\n",
        "model.layers[0].trainable = False\r\n",
        "\r\n",
        "model.add(Dense(256, activation = 'relu'))\r\n",
        "\r\n",
        "model.add(Dropout(0.5))\r\n",
        "\r\n",
        "model.add(Dense(num_classes, activation = 'softmax'))\r\n",
        "\r\n",
        "model.summary()"
      ],
      "execution_count": 26,
      "outputs": [
        {
          "output_type": "stream",
          "text": [
            "Model: \"sequential_2\"\n",
            "_________________________________________________________________\n",
            "Layer (type)                 Output Shape              Param #   \n",
            "=================================================================\n",
            "vgg16 (Functional)           (None, 512)               14714688  \n",
            "_________________________________________________________________\n",
            "dense_4 (Dense)              (None, 256)               131328    \n",
            "_________________________________________________________________\n",
            "dropout_2 (Dropout)          (None, 256)               0         \n",
            "_________________________________________________________________\n",
            "dense_5 (Dense)              (None, 2)                 514       \n",
            "=================================================================\n",
            "Total params: 14,846,530\n",
            "Trainable params: 131,842\n",
            "Non-trainable params: 14,714,688\n",
            "_________________________________________________________________\n"
          ],
          "name": "stdout"
        }
      ]
    },
    {
      "cell_type": "code",
      "metadata": {
        "id": "7lFjevEyrzZD"
      },
      "source": [
        "model.compile(optimizer = 'adam', loss = 'categorical_crossentropy', metrics = ['accuracy'])"
      ],
      "execution_count": 27,
      "outputs": []
    },
    {
      "cell_type": "code",
      "metadata": {
        "id": "oVxO2dMGrzZD"
      },
      "source": [
        "steps_per_epoch_training = len(train_gen)\r\n",
        "steps_per_epoch_validation = len(valid_gen)"
      ],
      "execution_count": 28,
      "outputs": []
    },
    {
      "cell_type": "code",
      "metadata": {
        "colab": {
          "base_uri": "https://localhost:8080/"
        },
        "id": "1UHxpf7brzZD",
        "outputId": "140fc8da-a635-4093-ae19-7532eb4e8eab"
      },
      "source": [
        "hypothesis = model.fit(\r\n",
        "    train_gen,\r\n",
        "    steps_per_epoch = steps_per_epoch_training,\r\n",
        "    epochs = num_epochs,\r\n",
        "    validation_data = valid_gen,\r\n",
        "    validation_steps = steps_per_epoch_validation,\r\n",
        "    verbose = 1,\r\n",
        ")"
      ],
      "execution_count": 29,
      "outputs": [
        {
          "output_type": "stream",
          "text": [
            "Epoch 1/2\n",
            "301/301 [==============================] - 304s 1s/step - loss: 0.1403 - accuracy: 0.9460 - val_loss: 0.0093 - val_accuracy: 0.9975\n",
            "Epoch 2/2\n",
            "301/301 [==============================] - 302s 1s/step - loss: 0.0091 - accuracy: 0.9974 - val_loss: 0.0054 - val_accuracy: 0.9985\n"
          ],
          "name": "stdout"
        }
      ]
    },
    {
      "cell_type": "code",
      "metadata": {
        "id": "eNXJreU4rzZD"
      },
      "source": [
        "model.save('classifier_vgg16_model.h5')"
      ],
      "execution_count": 30,
      "outputs": []
    },
    {
      "cell_type": "code",
      "metadata": {
        "colab": {
          "base_uri": "https://localhost:8080/"
        },
        "id": "BiBclz3IQFCo",
        "outputId": "4b801199-3549-44ed-c05c-36d84b11afe9"
      },
      "source": [
        "datagenerator = ImageDataGenerator(preprocessing_function = resnet50_preprocess_input)\r\n",
        "\r\n",
        "train_gen = datagenerator.flow_from_directory('concrete_data_week4/train', target_size = image_size, batch_size = batch_size)\r\n",
        "valid_gen = datagenerator.flow_from_directory('concrete_data_week4/valid', target_size = image_size, batch_size = batch_size)"
      ],
      "execution_count": 39,
      "outputs": [
        {
          "output_type": "stream",
          "text": [
            "Found 30001 images belonging to 2 classes.\n",
            "Found 9501 images belonging to 2 classes.\n"
          ],
          "name": "stdout"
        }
      ]
    },
    {
      "cell_type": "code",
      "metadata": {
        "id": "nxTImuCTQLBM"
      },
      "source": [
        "steps_per_epoch_training = len(train_gen)\r\n",
        "steps_per_epoch_validation = len(valid_gen)"
      ],
      "execution_count": 40,
      "outputs": []
    },
    {
      "cell_type": "code",
      "metadata": {
        "colab": {
          "base_uri": "https://localhost:8080/"
        },
        "id": "ImULMJHUO3Re",
        "outputId": "cc76c6d1-0c43-4365-b7bb-4de547cbab40"
      },
      "source": [
        "model = Sequential()\r\n",
        "\r\n",
        "model.add(ResNet50(weights = 'imagenet', include_top = False, pooling = 'avg'))\r\n",
        "\r\n",
        "model.layers[0].trainable = False\r\n",
        "\r\n",
        "model.add(Dense(256, activation = 'relu'))\r\n",
        "\r\n",
        "model.add(Dropout(0.5))\r\n",
        "\r\n",
        "model.add(Dense(num_classes, activation='softmax'))"
      ],
      "execution_count": 41,
      "outputs": [
        {
          "output_type": "stream",
          "text": [
            "Downloading data from https://storage.googleapis.com/tensorflow/keras-applications/resnet/resnet50_weights_tf_dim_ordering_tf_kernels_notop.h5\n",
            "94773248/94765736 [==============================] - 3s 0us/step\n"
          ],
          "name": "stdout"
        }
      ]
    },
    {
      "cell_type": "code",
      "metadata": {
        "id": "K3KMTumMO1GD"
      },
      "source": [
        "model.compile(optimizer = 'adam', loss = 'categorical_crossentropy', metrics = ['accuracy'])"
      ],
      "execution_count": 42,
      "outputs": []
    },
    {
      "cell_type": "code",
      "metadata": {
        "colab": {
          "base_uri": "https://localhost:8080/"
        },
        "id": "IRimfLdAPrdc",
        "outputId": "1be03671-b621-404c-8801-e8e5d827daba"
      },
      "source": [
        "hypothesis = model.fit(\r\n",
        "    train_gen,\r\n",
        "    steps_per_epoch = steps_per_epoch_training,\r\n",
        "    epochs = num_epochs,\r\n",
        "    validation_data = valid_gen,\r\n",
        "    validation_steps = steps_per_epoch_validation,\r\n",
        "    verbose = 1,\r\n",
        ")"
      ],
      "execution_count": 43,
      "outputs": [
        {
          "output_type": "stream",
          "text": [
            "Epoch 1/2\n",
            "301/301 [==============================] - 274s 892ms/step - loss: 0.0370 - accuracy: 0.9862 - val_loss: 0.0035 - val_accuracy: 0.9988\n",
            "Epoch 2/2\n",
            "301/301 [==============================] - 267s 887ms/step - loss: 0.0033 - accuracy: 0.9990 - val_loss: 0.0070 - val_accuracy: 0.9979\n"
          ],
          "name": "stdout"
        }
      ]
    },
    {
      "cell_type": "code",
      "metadata": {
        "id": "DgMWR8wHQXw8"
      },
      "source": [
        "model.save('classifier_resnet50_model.h5')"
      ],
      "execution_count": 44,
      "outputs": []
    },
    {
      "cell_type": "markdown",
      "metadata": {
        "id": "mtUPx65arzZE"
      },
      "source": [
        "   "
      ]
    },
    {
      "cell_type": "markdown",
      "metadata": {
        "id": "V1K6VES-rzZE"
      },
      "source": [
        "<a id=\"item43\"></a>"
      ]
    },
    {
      "cell_type": "markdown",
      "metadata": {
        "id": "gdxtlK-2rzZE"
      },
      "source": [
        "## Part 2"
      ]
    },
    {
      "cell_type": "markdown",
      "metadata": {
        "id": "LMh1DE6srzZE"
      },
      "source": [
        "In this part, you will evaluate your deep learning models on a test data. For this part, you will need to do the following:\n",
        "\n",
        "1. Load your saved model that was built using the ResNet50 model. \n",
        "2. Construct an ImageDataGenerator for the test set. For this ImageDataGenerator instance, you only need to pass the directory of the test images, target size, and the **shuffle** parameter and set it to False.\n",
        "3. Use the **evaluate_generator** method to evaluate your models on the test data, by passing the above ImageDataGenerator as an argument. You can learn more about **evaluate_generator** [here](https://keras.io/models/sequential/).\n",
        "4. Print the performance of the classifier using the VGG16 pre-trained model.\n",
        "5. Print the performance of the classifier using the ResNet pre-trained model.\n"
      ]
    },
    {
      "cell_type": "markdown",
      "metadata": {
        "id": "liHVh_fBrzZF"
      },
      "source": [
        "Use the following cells to evaluate your models."
      ]
    },
    {
      "cell_type": "code",
      "metadata": {
        "id": "NWByrDiBrzZF"
      },
      "source": [
        "resnet50_model = load_model('classifier_resnet50_model.h5')\r\n",
        "vgg16_model = load_model('classifier_vgg16_model.h5')"
      ],
      "execution_count": 45,
      "outputs": []
    },
    {
      "cell_type": "code",
      "metadata": {
        "id": "zAly6PTmrzZF"
      },
      "source": [
        "datagent = ImageDataGenerator()"
      ],
      "execution_count": 46,
      "outputs": []
    },
    {
      "cell_type": "code",
      "metadata": {
        "colab": {
          "base_uri": "https://localhost:8080/"
        },
        "id": "hDGJTTVerzZF",
        "outputId": "e3dc4420-3333-4840-eab7-06d71d5f89a4"
      },
      "source": [
        "test_gen = datagent.flow_from_directory(\"concrete_data_week4/test\", target_size = image_size, batch_size = batch_size, shuffle = False)"
      ],
      "execution_count": 47,
      "outputs": [
        {
          "output_type": "stream",
          "text": [
            "Found 500 images belonging to 2 classes.\n"
          ],
          "name": "stdout"
        }
      ]
    },
    {
      "cell_type": "code",
      "metadata": {
        "colab": {
          "base_uri": "https://localhost:8080/"
        },
        "id": "6VeDqeRFrzZF",
        "outputId": "0235fcdd-d0ae-44ed-ac4c-de72a3169858"
      },
      "source": [
        "print(\"Vgg16 Model Performance\")\r\n",
        "\r\n",
        "vgg16 = vgg16_model.evaluate(test_gen)\r\n",
        "\r\n",
        "print(vgg16)\r\n",
        "\r\n",
        "print(\"Loss :: \", str(vgg16[0]))\r\n",
        "print(\"Accuracy :: \", str(vgg16[1]))"
      ],
      "execution_count": 48,
      "outputs": [
        {
          "output_type": "stream",
          "text": [
            "Vgg16 Model Performance\n",
            "5/5 [==============================] - 4s 757ms/step - loss: 0.1087 - accuracy: 0.9740\n",
            "[0.10868659615516663, 0.9739999771118164]\n",
            "Loss ::  0.10868659615516663\n",
            "Accuracy ::  0.9739999771118164\n"
          ],
          "name": "stdout"
        }
      ]
    },
    {
      "cell_type": "code",
      "metadata": {
        "colab": {
          "base_uri": "https://localhost:8080/"
        },
        "id": "DZTbPmgxF_M0",
        "outputId": "c648df5f-c268-44f5-aa47-19fdf0e246f5"
      },
      "source": [
        "print(\"ResNet50 Model Performance\")\r\n",
        "\r\n",
        "resnet50 = resnet50_model.evaluate(test_gen)\r\n",
        "\r\n",
        "print(resnet50)\r\n",
        "\r\n",
        "print(\"Loss :: \", str(resnet50[0]))\r\n",
        "print(\"Accuracy :: \", str(resnet50[1]))"
      ],
      "execution_count": 49,
      "outputs": [
        {
          "output_type": "stream",
          "text": [
            "ResNet50 Model Performance\n",
            "5/5 [==============================] - 5s 670ms/step - loss: 0.0223 - accuracy: 0.9920\n",
            "[0.022335385903716087, 0.9919999837875366]\n",
            "Loss ::  0.022335385903716087\n",
            "Accuracy ::  0.9919999837875366\n"
          ],
          "name": "stdout"
        }
      ]
    },
    {
      "cell_type": "markdown",
      "metadata": {
        "id": "pib-WNDlrzZF"
      },
      "source": [
        "   "
      ]
    },
    {
      "cell_type": "markdown",
      "metadata": {
        "id": "M9OqLObtrzZF"
      },
      "source": [
        "<a id=\"item44\"></a>"
      ]
    },
    {
      "cell_type": "markdown",
      "metadata": {
        "id": "bVKhdFbSrzZG"
      },
      "source": [
        "## Part 3"
      ]
    },
    {
      "cell_type": "markdown",
      "metadata": {
        "id": "r9EZ3pWurzZG"
      },
      "source": [
        "In this model, you will predict whether the images in the test data are images of cracked concrete or not. You will do the following:\n",
        "\n",
        "1. Use the **predict_generator** method to predict the class of the images in the test data, by passing the test data ImageDataGenerator instance defined in the previous part as an argument. You can learn more about the **predict_generator** method [here](https://keras.io/models/sequential/).\n",
        "2. Report the class predictions of the first five images in the test set. You should print something list this:\n",
        "\n",
        "<center>\n",
        "    <ul style=\"list-style-type:none\">\n",
        "        <li>Positive</li>  \n",
        "        <li>Negative</li> \n",
        "        <li>Positive</li>\n",
        "        <li>Positive</li>\n",
        "        <li>Negative</li>\n",
        "    </ul>\n",
        "</center>"
      ]
    },
    {
      "cell_type": "markdown",
      "metadata": {
        "id": "s_PptfnPrzZG"
      },
      "source": [
        "Use the following cells to make your predictions."
      ]
    },
    {
      "cell_type": "code",
      "metadata": {
        "id": "RJyAgm89rzZG"
      },
      "source": [
        "vgg16_pred = vgg16_model.predict(test_gen)\r\n",
        "resnet50_pred = resnet50_model.predict(test_gen)"
      ],
      "execution_count": 50,
      "outputs": []
    },
    {
      "cell_type": "code",
      "metadata": {
        "id": "P9lQPcqPrzZG"
      },
      "source": [
        "def predict(x, str):\r\n",
        "\r\n",
        "  print(str)\r\n",
        "\r\n",
        "  for i in x:\r\n",
        "\r\n",
        "    j = np.argmax(i)\r\n",
        "\r\n",
        "    if (j == 0):\r\n",
        "      print(\"Negetive\")\r\n",
        "    else:\r\n",
        "      print(\"Positive\")\r\n",
        "      "
      ],
      "execution_count": 51,
      "outputs": []
    },
    {
      "cell_type": "code",
      "metadata": {
        "colab": {
          "base_uri": "https://localhost:8080/"
        },
        "id": "OMPwoXSxrzZG",
        "outputId": "2a345b36-e490-4303-a623-e95b53e3b305"
      },
      "source": [
        "predict(vgg16_pred[0:5], \"VGG16 predictions for first 5 images in testset\")"
      ],
      "execution_count": 52,
      "outputs": [
        {
          "output_type": "stream",
          "text": [
            "VGG16 predictions for first 5 images in testset\n",
            "Negetive\n",
            "Negetive\n",
            "Negetive\n",
            "Negetive\n",
            "Negetive\n"
          ],
          "name": "stdout"
        }
      ]
    },
    {
      "cell_type": "code",
      "metadata": {
        "colab": {
          "base_uri": "https://localhost:8080/"
        },
        "id": "K-l0oEzXrzZG",
        "outputId": "8064f318-a337-4378-ae4a-a7f8e552a785"
      },
      "source": [
        "predict(resnet50_pred[0:5], \"Resnet50 predictions for first 5 images in testset\")"
      ],
      "execution_count": 53,
      "outputs": [
        {
          "output_type": "stream",
          "text": [
            "Resnet50 predictions for first 5 images in testset\n",
            "Negetive\n",
            "Negetive\n",
            "Negetive\n",
            "Negetive\n",
            "Negetive\n"
          ],
          "name": "stdout"
        }
      ]
    },
    {
      "cell_type": "code",
      "metadata": {
        "colab": {
          "base_uri": "https://localhost:8080/"
        },
        "id": "YQ5MGtiYJBed",
        "outputId": "fa5daccd-8324-4b7f-a3ae-d51124c2842f"
      },
      "source": [
        "predict(test_gen.next()[1][0:5], \"Ground truth for first 5 images in testset\")"
      ],
      "execution_count": 54,
      "outputs": [
        {
          "output_type": "stream",
          "text": [
            "Ground truth for first 5 images in testset\n",
            "Negetive\n",
            "Negetive\n",
            "Negetive\n",
            "Negetive\n",
            "Negetive\n"
          ],
          "name": "stdout"
        }
      ]
    },
    {
      "cell_type": "markdown",
      "metadata": {
        "id": "REQ0aLx8rzZH"
      },
      "source": [
        "  "
      ]
    },
    {
      "cell_type": "markdown",
      "metadata": {
        "button": false,
        "deletable": true,
        "new_sheet": false,
        "run_control": {
          "read_only": false
        },
        "id": "8rOqkqqjrzZH"
      },
      "source": [
        "### Thank you for completing this lab!\n",
        "\n",
        "This notebook was created by Alex Aklson."
      ]
    },
    {
      "cell_type": "markdown",
      "metadata": {
        "button": false,
        "deletable": true,
        "new_sheet": false,
        "run_control": {
          "read_only": false
        },
        "id": "zOofuqy9rzZH"
      },
      "source": [
        "This notebook is part of a course on **Coursera** called *AI Capstone Project with Deep Learning*. If you accessed this notebook outside the course, you can take this course online by clicking [here](https://cocl.us/DL0321EN_Coursera_Week4_LAB1)."
      ]
    },
    {
      "cell_type": "markdown",
      "metadata": {
        "button": false,
        "deletable": true,
        "new_sheet": false,
        "run_control": {
          "read_only": false
        },
        "id": "dCJXPZIOrzZH"
      },
      "source": [
        "<hr>\n",
        "\n",
        "Copyright &copy; 2020 [IBM Developer Skills Network](https://cognitiveclass.ai/?utm_source=bducopyrightlink&utm_medium=dswb&utm_campaign=bdu). This notebook and its source code are released under the terms of the [MIT License](https://bigdatauniversity.com/mit-license/)."
      ]
    }
  ]
}